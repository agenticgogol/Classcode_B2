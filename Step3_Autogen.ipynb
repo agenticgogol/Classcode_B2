{
 "cells": [
  {
   "cell_type": "markdown",
   "id": "01c534cf",
   "metadata": {},
   "source": [
    "# Mult agent systems\n",
    "- autogen_agentchat.teams : This module provides implementation of various pre defined multi agent teams. Each team inherits from. the BaseGroupChat class\n",
    "- Refer to documentation once \n",
    "- Why multi agent over single agent - a) Specialization b) Agents can work on async manner c) Resiliency - if an agent is lazy or flop, others can pick up  "
   ]
  },
  {
   "cell_type": "code",
   "execution_count": 1,
   "id": "ef898b5c",
   "metadata": {},
   "outputs": [],
   "source": [
    "from autogen_agentchat.agents import AssistantAgent\n",
    "from autogen_ext.models.openai import OpenAIChatCompletionClient\n",
    "from dotenv import load_dotenv\n",
    "import os\n",
    "\n",
    "load_dotenv()\n",
    "api_key = os.getenv('OPENAI_API_KEY')\n",
    "model_client = OpenAIChatCompletionClient(model='gpt-4', api_key=api_key)"
   ]
  },
  {
   "cell_type": "code",
   "execution_count": 3,
   "id": "0e3899ee",
   "metadata": {},
   "outputs": [
    {
     "name": "stdout",
     "output_type": "stream",
     "text": [
      "Once upon a time, in the heart of a quiet town nestled in the midst of snow-capped mountains and lush green fields, lived two adorable little girls named Lucy and Ella. They were not just sisters, but best friends who shared an irrepressible knack for finding everyday adventures.\n",
      "\n",
      "One delightful summer afternoon, while wandering through Mrs. Hoot's Sunflower field, they found something that would take their expeditions to a whole new level. In the midst of the towering sunflowers, a petite, fluffy creature peeked back at them with curious, glittering emerald eyes. To their surprise, it was a cat, an extraordinary one at that - it had the most beautiful, shiny pink fur they had ever seen.\n",
      "\n",
      "Confused yet awestruck, the girls named their newfound feline friend 'Rosie' after its unique rose-colored coat. The girls could hardly contain their excitement at the idea of sharing their everyday escapades with Rosie. It wasn't long before Rosie the pink cat became an integral figure in Lucy and Ella's wanderings and fairy-tale-like stories.\n",
      "\n",
      "Rosie was a cat like no other. Beyond her striking pink fur, she seemed to understand the girls' words, reacted to their emotions, and yet, maintained a wise, mysterious aura about her. She also had peculiar habits - she loved eating strawberry jam toast for breakfast and enjoyed napping curled up in a pink blanket that perfectly complimented her fur.\n",
      "\n",
      "Lucy, the elder and more thoughtful one, came up with fantastical childlike theories to explain Rosie's unusual color. She fancied that Rosie had bathed in the colors of the blush sunset and somehow got dyed pink for life. On the other hand, the vivacious Ella spun tales of Rosie being a magical cat, blessed by a fairy queen from the dreamy, pink clouds.\n",
      "\n",
      "Every day, the girls would seek out new adventures with Rosie, making up countless tales of pirates, castles, aliens, and secret gardens. Rosie would trot along, exploring alongside them, her pink coat a fluffy blur as she leaped over logs and pranced through fields. The cat warmed the sisters' hearts with her antics as she chased butterflies, stretched out in sunny spots, and nuzzled up to them at times.\n",
      "\n",
      "Rosie's presence brought a renewed zest of excitement to their lives. The extraordinary pink cat did nothing remarkably magical, yet she brightened their already vibrant world with her distinctive charm and quirks. Lucy and Ella, through their playful imagination, weaved countless enchanting stories around Rosie, making their ordinary life extraordinarily wonderful.\n",
      "\n",
      "And so, in the tales of these two little girls, the pink cat named Rosie became a legend, their remarkable companion in untamed childhood adventures, and a colorful imprint in their heartwarming sisterly bond. Their shared escapades interspersed with giggles, chatters, and purrs echoed amidst the sunflower fields, casting an enchanting spell on their otherwise quiet town, lighting up their childhood with countless magical memories.\n"
     ]
    }
   ],
   "source": [
    "from autogen_agentchat.agents import AssistantAgent\n",
    "\n",
    "story_agent = AssistantAgent(\n",
    "    name = 'story_agent',\n",
    "    model_client = model_client,\n",
    "    system_message = 'you are a content writer. Generate stories on any given topic'\n",
    ")\n",
    "\n",
    "from autogen_agentchat.messages import TextMessage\n",
    "\n",
    "async def test_simple_agent():\n",
    "    task = TextMessage(\n",
    "        content = \"Write a short story about two little girls and a pink cat in 300 words\",\n",
    "        source = 'user'\n",
    "    )\n",
    "    result = await story_agent.run(task= task)\n",
    "    print(result.messages[-1].content)\n",
    "await test_simple_agent()"
   ]
  },
  {
   "cell_type": "markdown",
   "id": "f2542157",
   "metadata": {},
   "source": [
    "# Multi Agent team approach \n"
   ]
  },
  {
   "cell_type": "code",
   "execution_count": 4,
   "id": "a7056377",
   "metadata": {},
   "outputs": [
    {
     "name": "stdout",
     "output_type": "stream",
     "text": [
      "user: Write a short story about two little girls and a pink cat. Keep it to 300 words\n",
      "plot_agent: Once, in a small countryside town, lived two kindred spirits, Lila and Rosie. Merely aged ten, they were playful, adventurous, and kind. Their bond was a unique flair in town; it was facilitated by their shared love for cats. This love took a mystic turn when they encountered a Pink Cat in the forest.\n",
      "\n",
      "One sunny afternoon, Lila and Rosie were exploring the dense forest. Suddenly, a shimmer of pink caught their eye; a fluffy cat, the most unusual shade of pink, was resting by a crystal-clear stream. It was no ordinary creature; the cat exuded an enchanting aura. They named it 'Blossom'.\n",
      "\n",
      "Blossom became an integral part of their adventures. It was as if they were always destined to meet Blossom, forming a beautiful yet peculiar trio. The girls, guided by Blossom, started solving minor problems of the town, from finding lost objects to helping the old Mrs. Crumbley find her way home when she got lost. The town started to adore the trio — two little girls and a pink cat.\n",
      "\n",
      "One day, Blossom mysteriously vanished. Distraught, Lila and Rosie earnestly searched everywhere but to no avail. Then, remembering the stream, they rushed there and found Blossom sitting pristinely beside it.\n",
      "\n",
      "That day, a gentle lady emerged from the forest, surprising them. She explained she was a fairy, the guardian of the forest and Blossom. Pleased with the girls' kind hearts, she had let Blossom guide them. However, now it was time to restore Blossom to the forest.\n",
      "\n",
      "Reluctantly, they bid Blossom a heartfelt farewell. They returned to the village, their hearts heavy yet full of warm memories. Blossom's absence was deeply felt, yet the girls continued their good deeds, keeping Blossom alive in spirit.\n",
      "\n",
      "The story of two little girls and a pink cat became a legend in their town, a tale of friendship, love, and magic that transcended time.\n",
      "character_agent: Once upon a time, in a small, quaint village resided two best friends, Bella and Lily. These two inseparable mates, aged ten, were free-spirited, brave, and empathetic. They were known for their unbreakable bond, solidified by their mutual fascination with cats. Their enchanting friendship took a magical turn when they discovered a Pink Cat in the nearby forest.\n",
      "\n",
      "On a typical sunny day, Bella and Lily decided to seek an adventure in the dense forest. Amidst their playful exploration, a stunning spark of pink caught their eyes. Lo and behold, an ethereal feline with a distinctive pink coat was lounging near a sparkling creek. This peculiar cat resonated with a mysterious allure and almost immediately, they felt an indescribable pull towards it. They lovingly named it 'Cherry'.\n",
      "\n",
      "Cherry quickly became a beloved companion in their escapades. It felt as if their paths were designed to cross with Cherry's, culminating in an extraordinary trio. Guided by Cherry's mystical wisdom, they started resolving minor predicaments occurring in the village, from tracing lost items to assisting elderly Mrs. Pots in finding her lost path. This unique trio, comprising two little girls and a pink cat, quickly gained affection from the villagers.\n",
      "\n",
      "However, one ominous day, Cherry mysteriously disappeared. Bella and Lily searched the entire village tirelessly but to no vain. Then remembering the creek, they dashed towards it and found Cherry sitting serenely by its edge.\n",
      "\n",
      "Unexpectedly, a beautiful lady softly stepped out from the shadows of the tall trees. She introduced herself as a fairy responsible for safeguarding the forest and Cherry. Touched by their kindness, she had lent Cherry to them. However, now it was time to reunite Cherry with her. \n",
      "\n",
      "Heartbroken yet understanding, the girls bid a touching goodbye to Cherry. They returned home, their spirits dampened but filled with precious memories of Cherry. Continuing their benevolent deeds, they ensured that Cherry's legacy lived on.\n",
      "\n",
      "Their magical tale of an extraordinary friendship with a pink cat became an enduring folk tale etching itself into the heart of their village - a testament to love, magic, and unforgettable camaraderie.\n",
      "ending_agent: Returning to their everyday lives, Bella and Lily carried on their good deeds around the town. But their hearts were always wandering back to the time spent with Cherry. The town slowly adjusted to the absence of the lovely trio, but couldn't ignore the heartwarming difference they made in everyone's lives. The story of two little girls and their lovely pink cat became a legend, passed down from generation to generation. It was a tale that reflected love, friendship and the sheer magic that lay in kindness and unity.\n",
      "\n",
      "The summer following Cherry's departure, Bella and Lily were given the greatest surprise of their lives. A pair of kittens, each bearing an impossible pink hue, was found loitering in their backyard. This was no simple coincidence; it was the fairy's gift, a reward for their noble hearts.\n",
      "\n",
      "In the end, a new chapter began for Bella and Lily - one that brought back the magic and friendship that was thought to be lost. And the whole village whispered of the fairy who watches over them, turning their ordinary lives into a living fairy tale.\n",
      "plot_agent: Returning to their regular lives, Bella and Lily continued to uphold their acts of kindness around the village. Their hearts ached for their pink companion, but they did their best to keep Cherry's spirit alive in the good deeds they performed. The village eventually adjusted to the absence of the magical trio, but never forgot the change they had instilled in their community. The tale of two little girls and their pink cat was narrated from generation to generation and became a town legend displaying love, friendship, and the power of unity.\n",
      "\n",
      "The subsequent summer, Bella and Lily ventured into their backyard to discover something extraordinary. There in the cozy garden corner were two kittens, each possessing a pink coat uncannily similar to Cherry's! It was far from mere coincidence, rather a legacy left by the forest fairy for their brave and kind hearts. The kittens were the reincarnation of their magical summer, they were Cherry's remnants, her blessings to Bella and Lily.\n",
      "\n",
      "As such, Bella and Lily's magical narrative did not end but took a turn to start a new chapter — one where the magic was delivered back into their lives with the existence of these new companions. Consequently, the village whispered about the protective fairy who turned their ordinary lives into a constant fairy tale.\n",
      "character_agent: After Cherry's departure, Bella and Lily carried on, their hearts heavy yet warmth sustained by the beautiful memories. Despite their sadness, they devoted themselves to the town, offering help wherever required. The village folk deeply missed the extraordinary trio, but cherished the difference their youthful vigor and magical friend brought. The story of their profound bonding with the pink cat not only became a local legend but also a symbol of love, unity, and the enchanting charm of the unknown.\n",
      "\n",
      "Shockingly, the following summer brought a delightful surprise. Nestled in the backyard were two adorable kittens with the unmistakably captivating pink glow. Not much needed to be said; this was the fairy's doing, her generous reciprocation for the girls' noble hearts. Cherry’s legacy was going to continue within these two feline angels.\n",
      "\n",
      "Starting a new chapter filled with joy and hues of pink kitty fluff, the magic was back again in Bella and Lily’s lives. The villagers resumed whispering about the mysterious fairy who used her magic to transform their mundane perceptions into an unfading fairy tale.\n",
      "ending_agent: Gaily going about their lives, Bella and Lily turned their sorrow into a newfound resolve to continue their good deeds in the village. Their hearts still missed Cherry, but they kept her memory alive by embodying the love and care Cherry had shown them. The villagers recalled the delightful trio fondly, embedding them into their tales as the embodiment of love, unity, and mystic encounters.\n",
      "\n",
      "When summer returned, Bella and Lily discovered something that left them in stunned delight. In their backyard, there were two playful kittens bathed in a shade of radiant pink that winked in the sunlight. It was undeniable - this was a gift from the fairy, a tangible echo of Cherry, gifted to them for their nobility.\n",
      "\n",
      "As the village prattled about the miraculous pink kittens, it was evident that the magic had made its way back into Bella's and Lily's lives. The fascination and rumors about the forest fairy returned, her magical intervention transforming their simple existence into a continuum of a fairytale. And thus closed the chapter of a profound friendship, only to open another of hope, miraculous gifts, and the eternal magic of love and kindness.\n"
     ]
    }
   ],
   "source": [
    "from autogen_agentchat.messages import TextMessage\n",
    "\n",
    "plot_agent = AssistantAgent(\n",
    "    name = 'plot_agent',\n",
    "    model_client = model_client,\n",
    "    system_message = \"You create engaging plots for stories for a story topic\"\n",
    ")\n",
    "\n",
    "character_agent = AssistantAgent(\n",
    "    name = 'character_agent',\n",
    "    model_client = model_client,\n",
    "    system_message = \"You develop characters and their behaviors for a given story topic\"\n",
    ")\n",
    "\n",
    "ending_agent = AssistantAgent(\n",
    "    name = 'ending_agent',\n",
    "    model_client = model_client,\n",
    "    system_message = \"You write ending of a story. Always conclude stories with twists\"\n",
    ")\n",
    "\n",
    "from autogen_agentchat.teams import RoundRobinGroupChat\n",
    "\n",
    "team = RoundRobinGroupChat(\n",
    "    [plot_agent,character_agent, ending_agent],\n",
    "    max_turns = 6\n",
    ")\n",
    "\n",
    "async def test_team():\n",
    "    task = TextMessage(\n",
    "        content = \"Write a short story about two little girls and a pink cat. Keep it to 300 words\",\n",
    "        source = 'user'\n",
    "    )\n",
    "    result = await team.run(task = task)\n",
    "    for each_agent_message in result.messages:\n",
    "        print(f'{each_agent_message.source}: {each_agent_message.content}')\n",
    "    \n",
    "await test_team()\n",
    "\n",
    "\n"
   ]
  },
  {
   "cell_type": "code",
   "execution_count": null,
   "id": "417fb651",
   "metadata": {},
   "outputs": [
    {
     "name": "stderr",
     "output_type": "stream",
     "text": [
      "/var/folders/9d/7gw2rnq56ls5m4r1vbglz5r00000gn/T/ipykernel_51737/3448188332.py:60: RuntimeWarning: coroutine 'Console' was never awaited\n",
      "  ui = Console(stream=sys.stdout)\n",
      "RuntimeWarning: Enable tracemalloc to get the object allocation traceback\n",
      "Model failed to select a speaker after 3, using the previous speaker.\n"
     ]
    }
   ],
   "source": [
    "import os\n",
    "import sys\n",
    "import asyncio\n",
    "from typing import List\n",
    "from dotenv import load_dotenv\n",
    "from autogen_agentchat.agents import AssistantAgent, UserProxyAgent\n",
    "from autogen_agentchat.conditions import MaxMessageTermination, TextMentionTermination\n",
    "from autogen_agentchat.teams import SelectorGroupChat\n",
    "from autogen_agentchat.ui import Console\n",
    "from autogen_ext.models.openai import OpenAIChatCompletionClient\n",
    "\n",
    "# Load environment variables\n",
    "load_dotenv()\n",
    "api_key = os.getenv('OPENAI_API_KEY')\n",
    "\n",
    "# Initialize the model client\n",
    "llm_client = OpenAIChatCompletionClient(model='gpt-4', api_key=api_key)\n",
    "\n",
    "# Create agents\n",
    "user_proxy = UserProxyAgent(\n",
    "    name=\"user\"\n",
    ")\n",
    "\n",
    "search_agent = AssistantAgent(\n",
    "    name=\"web_searcher\",\n",
    "    system_message=(\n",
    "        \"You are a web searcher. When asked, do a concise web-style search summary: list 3 latest findings \"\n",
    "        \"or facts with sources (title and short snippet). If no web access, respond with best known facts.\"\n",
    "    ),\n",
    "    model_client=llm_client,\n",
    "    description=\"Searches for information and provides summaries with sources\"\n",
    ")\n",
    "\n",
    "analysis_agent = AssistantAgent(\n",
    "    name=\"analyst\",\n",
    "    system_message=(\n",
    "        \"You are an analyst. Take the web searcher output and produce a 3 bullet next step action summary \"\n",
    "        \"and suggest one immediate follow-up question for the user to get deep into the topic.\"\n",
    "    ),\n",
    "    model_client=llm_client,\n",
    "    description=\"Analyzes information and provides actionable insights\"\n",
    ")\n",
    "\n",
    "# Create termination conditions\n",
    "term_condition = MaxMessageTermination(max_messages=12)\n",
    "\n",
    "\n",
    "# Create the SelectorGroupChat\n",
    "groupchat = SelectorGroupChat(\n",
    "    participants=[user_proxy, search_agent, analysis_agent],\n",
    "    model_client=llm_client,  # Required: model client for the selector\n",
    "    termination_condition=term_condition,\n",
    "    max_turns=20,\n",
    "    allow_repeated_speaker=False,\n",
    "    selector_prompt=\"Select the most appropriate agent to handle the next part of the task based on the conversation context and agent descriptions.\"\n",
    ")\n",
    "\n",
    "# Create UI console\n",
    "import sys\n",
    "ui = Console(stream=sys.stdout)\n",
    "\n",
    "async def main():\n",
    "    \"\"\"Main async function to run the group chat.\"\"\"\n",
    "    try:\n",
    "        # Run the group chat with the initial task\n",
    "        task = \"Please summarize the developments in India US relationship in 2025 and suggest implications and next steps\"\n",
    "        \n",
    "        # Start the conversation\n",
    "        result = await groupchat.run(task=task, cancellation_token=None)\n",
    "        \n",
    "        print(\"\\n\" + \"=\"*50)\n",
    "        print(\"FINAL CONVERSATION SUMMARY\")\n",
    "        print(\"=\"*50)\n",
    "        \n",
    "        # Print the conversation history\n",
    "        for i, message in enumerate(result.messages, 1):\n",
    "            print(f\"\\n{i}. {message.source}: {message.content}\")\n",
    "        \n",
    "        print(f\"\\nConversation ended. Reason: {result.stop_reason}\")\n",
    "        \n",
    "    except Exception as e:\n",
    "        print(f\"Error running group chat: {e}\")\n",
    "\n",
    "if __name__ == \"__main__\":\n",
    "    # Run the async main function\n",
    "    await main()"
   ]
  },
  {
   "cell_type": "markdown",
   "id": "086e67a7",
   "metadata": {},
   "source": [
    "# Observing teams in Autogen "
   ]
  },
  {
   "cell_type": "code",
   "execution_count": 2,
   "id": "4581aa62",
   "metadata": {},
   "outputs": [],
   "source": [
    "import asyncio\n",
    "from autogen_ext.models.openai import OpenAIChatCompletionClient\n",
    "from dotenv import load_dotenv\n",
    "import os\n",
    "\n",
    "load_dotenv()\n",
    "api_key = os.getenv('OPENAI_API_KEY')\n",
    "model_client = OpenAIChatCompletionClient(model='gpt-4o', api_key=api_key)\n",
    "\n",
    "plot_agent = AssistantAgent(\n",
    "    name = 'plot_agent',\n",
    "    model_client = model_client,\n",
    "    system_message = \"You create engaging plots for stories for a story topic\"\n",
    ")\n",
    "\n",
    "character_agent = AssistantAgent(\n",
    "    name = 'character_agent',\n",
    "    model_client = model_client,\n",
    "    system_message = \"You develop characters and their behaviors for a given story topic\"\n",
    ")\n",
    "\n",
    "ending_agent = AssistantAgent(\n",
    "    name = 'ending_agent',\n",
    "    model_client = model_client,\n",
    "    system_message = \"You write ending of a story. Always conclude stories with twists\"\n",
    ")\n",
    "\n",
    "from autogen_agentchat.teams import RoundRobinGroupChat\n",
    "\n",
    "team = RoundRobinGroupChat(\n",
    "    [plot_agent,character_agent, ending_agent],\n",
    "    max_turns = 3\n",
    ")"
   ]
  },
  {
   "cell_type": "code",
   "execution_count": 11,
   "id": "3cf919b6",
   "metadata": {},
   "outputs": [
    {
     "name": "stdout",
     "output_type": "stream",
     "text": [
      "id='45ef76d5-9e0e-4e84-9ef4-264f1b56d2f2' source='user' models_usage=None metadata={} created_at=datetime.datetime(2025, 8, 8, 23, 27, 21, 471789, tzinfo=datetime.timezone.utc) content='Write a story on a king , a queen and her lover' type='TextMessage'\n",
      "id='548e21ed-7637-43fd-8a59-f8ed65b69b48' source='plot_agent' models_usage=RequestUsage(prompt_tokens=34, completion_tokens=884) metadata={} created_at=datetime.datetime(2025, 8, 8, 23, 27, 43, 209894, tzinfo=datetime.timezone.utc) content='Title: The Royal Triangle\\n\\nIn the heart of the lush kingdom of Verdonia, where the rivers sang harmonious melodies and the forests whispered secrets, reigned King Alaric. Known for his wisdom and valor, Alaric was a beloved ruler who stood as a pillar of strength for his subjects. Beside him was Queen Elara, the epitome of grace and kindness, whose beauty was rivaled only by her compassionate heart.\\n\\nHowever, hidden behind the ceremonial smiles and regal façade lay a love story cloaked in shadows. Elara, though devoted to her king and country, harbored a secret that could unravel the very fabric of the monarchy—her love for another.\\n\\nEliam, a renowned artist within the kingdom, had captured Elara\\'s heart long before she ascended as queen. They had met in a tranquil meadow, under the silky shade of a willow, where Eliam, with his brushes and colors, painted worlds that danced in harmony with Elara\\'s dreams. Their connection was instant, as if two souls had found each other across the tapestry of time itself.\\n\\nWhen Alaric ascended to the throne, Elara, bound by duty and obligation, accepted his hand in marriage. Yet, the love she shared with Eliam remained unwavering, a hidden ember glowing quietly beneath the mantle of monarchy.\\n\\nThe kingdom prospered under Alaric\\'s rule, with Elara by his side, but her heart yearned for those moments tucked away with Eliam, away from the gaze of the court and the expectations that weighed heavily on her shoulders.\\n\\nFate, however, weaves its own stories.\\n\\nIn the kingdom\\'s bid to forge new alliances, Alaric hosted a grand celebration, drawing nobles and dignitaries from distant lands. Eliam, now a favored artist commissioned to immortalize the event in his art, found himself once more in the halls of the palace, his presence a secret thrill and torment to Elara.\\n\\nAmidst the grandeur, Eliam caught glimpses of Elara, regal and dazzling, yet unable to mask the longing in her eyes, a reflection of his own heart. It was during this celebration that Queen Elara\\'s secret faced its greatest peril.\\n\\nLady Isolde, a shrewd courtier with ambitions of her own, noticed the subtle glances exchanged between Eliam and Elara and smelled a scandal that could be used to her advantage. Intent on uprooting Elara\\'s position, Isolde wove a web of whispers, spinning tales of betrayal and deceit concerning the queen\\'s affections.\\n\\nThe rumors reached Alaric\\'s ears, and though his heart was heavy, he sought truth over deception. One starlit evening, he confronted Elara in the solarium, where moonlight wove intricate patterns against her face.\\n\\n\"Is it true, Elara?\" Alaric asked, his voice a mixture of authority and vulnerability.\\n\\nTears glistened in Elara\\'s eyes as she took a steadying breath. \"My heart, it loves our kingdom, it loves you for the good you\\'ve done. Yet, a piece of it belongs to another.\"\\n\\nPain etched across Alaric\\'s face, and a heavy silence lingered. But where others might perceive betrayal, Alaric saw the sincerity of a woman torn between obligations and her own elusive happiness.\\n\\nUnderstanding the fragility of the situation and nurturing care for both Elara and the kingdom, Alaric devised a plan. He announced a new commission for Eliam—a sprawling mural in the western wing of the palace, one that symbolized unity and enduring love.\\n\\nWhile Eliam painted, Elara was granted leisure under the guise of assisting in the artistic endeavor. There, in moments snatched between duty and discretion, she could be with Eliam, their love painted into the fabric of the kingdom through strokes of art, sanctioned by the king himself.\\n\\nIn this delicate equilibrium, Verdonia continued to thrive, a kingdom where love transcended the boundaries of tradition and expectation. Alaric, Elara, and Eliam found a way to harmonize their separate destinies within the rhythms of a kingdom destined for greatness.\\n\\nAnd so, the tale of the king, the queen, and her lover became a legend whispered among the people—an enduring example of love\\'s complexity, its resilience, and its unparalleled power to shape the future.' type='TextMessage'\n",
      "id='0e5098ee-2f5f-4f6c-bfc0-67b004556784' source='character_agent' models_usage=RequestUsage(prompt_tokens=926, completion_tokens=532) metadata={} created_at=datetime.datetime(2025, 8, 8, 23, 27, 57, 466234, tzinfo=datetime.timezone.utc) content=\"The story of King Alaric, Queen Elara, and Eliam became a cherished narrative passed through generations in Verdonia. It served as a poignant reminder that love, in its many forms, is both a source of great strength and deep vulnerability.\\n\\nAs the years unfolded, King Alaric continued to rule with wisdom and compassion, his reputation as a just and understanding monarch spreading beyond the borders of Verdonia. He never spoke publicly of what he had learned in the solarium that night, choosing instead to honor the quiet pact they had formed—a pact of love and respect for each other’s truths.\\n\\nQueen Elara, with a new understanding of her own heart, poured her energy into initiatives that brought culture and art to the forefront of Verdonia's society. She established schools where creativity was nurtured, ensuring that Eliam’s talents and those of others like him would inspire future generations.\\n\\nEliam, now a respected figure in the court, worked diligently on the grand mural—a masterpiece that took years to complete. It became not just an artistic marvel, but a testament to the unique bond shared by the three of them. The mural depicted scenes of Verdonia's serene landscapes, its thriving people, and at its heart, a representation of love in its various forms, from friendship to romance.\\n\\nIn private moments, as Elara and Eliam stood before the mural, they shared silent conversations and unspoken dreams. Their love had been tested and transformed, becoming a bond that was both spiritual and everlasting—a love free from possession, grounded in mutual understanding and deep respect.\\n\\nAs time did its inexorable work, Alaric, Elara, and Eliam aged gracefully, their story leaving an indelible mark on the kingdom. The love triangle never became a source of scandal or tragedy but evolved into a tale of progressive thoughtfulness and compassionate leadership.\\n\\nKing Alaric's final years saw Verdonia prosper like never before. His ability to see beyond tradition, to govern with an open heart and mind, had set a precedent for rulers who followed.\\n\\nWhen King Alaric passed, the kingdom mourned deeply, yet it celebrated a legacy of love—in all its complexities and forms. Elara, now queen regent, continued Alaric's work with grace, her heart still holding the echoes of the love she and Eliam shared.\\n\\nIn the years that followed, the story of the king, the queen, and her lover became a symbol of enlightenment in Verdonia, a gentle reminder that love's true power lies not in its simplicity, but in its ability to embrace imperfection and to prosper in harmony with honor and acceptance.\" type='TextMessage'\n",
      "id='2273c797-8555-4fca-bc45-a6e59fc8d936' source='ending_agent' models_usage=RequestUsage(prompt_tokens=1466, completion_tokens=308) metadata={} created_at=datetime.datetime(2025, 8, 8, 23, 28, 5, 723366, tzinfo=datetime.timezone.utc) content=\"But fate, always with a penchant for twists, decided the tale wasn’t quite complete.\\n\\nAs Elara continued her rule, strengthening the kingdom's commitment to arts and culture, a remarkable discovery was made in the archives of Verdonia's ancient library—a series of letters, finely preserved, dating back to the time of the kingdom's founding. Scholars were astounded by their contents. These letters detailed accounts of a forgotten prophecy, one stating that the true strength and unity of Verdonia could only be achieved when a king, queen, and a lover stood as one—a model of harmony and balance, driven by mutual respect and unbreakable bonds.\\n\\nWas it coincidence or destiny that Alaric, Elara, and Eliam had fulfilled this ancient foretelling? The kingdom buzzed with speculation and awe as these ancient texts were unveiled. It seemed that love’s complex dance had not only shaped their personal lives but had also unknowingly fulfilled a mystical expectation laid down by their ancestors.\\n\\nThe people of Verdonia celebrated their legendary leaders, recognizing them not just for their personal sacrifices and love, but also as pivotal figures destined by their history to guide the kingdom into a new era of prosperity and enlightenment.\\n\\nAnd so, the story of the king, the queen, and her lover transcended its humble beginnings, becoming an enduring legend of divine foresight fulfilled. Their lives were a profound testament that sometimes, what seems like an unpredictable path may, in the grand tapestry of existence, be the very path that unifies heart, spirit, and kingdom.\" type='TextMessage'\n",
      "Stop Reason: Maximum number of turns 3 reached.\n"
     ]
    }
   ],
   "source": [
    "from autogen_agentchat.base import TaskResult\n",
    "\n",
    "async for message in team.run_stream(task = 'Write a story on a king , a queen and her lover'):\n",
    "    if isinstance(message,TaskResult):\n",
    "        print(f\"Stop Reason: {message.stop_reason}\")\n",
    "    else:\n",
    "        print((message))"
   ]
  },
  {
   "cell_type": "code",
   "execution_count": 3,
   "id": "45c6aa66",
   "metadata": {},
   "outputs": [
    {
     "name": "stdout",
     "output_type": "stream",
     "text": [
      "---------- TextMessage (user) ----------\n",
      "Write a story on a king , a queen and her lover in 200 words\n",
      "---------- TextMessage (plot_agent) ----------\n",
      "In the ancient kingdom of Elandor, King Alaric was loved for his wisdom and fairness, while Queen Seraphina was admired for her beauty and gentle heart. Yet, behind the serene facade of the castle, a secret affair unraveled, threatening the sanctity of the crown.\n",
      "\n",
      "Seraphina, trapped in a loveless marriage, found solace in the arms of Thorne, a dashing knight of humble origins. They had grown up together in the lush meadows of her father's lands, their bond forged in innocence and true affection. As adults, their love blossomed in secret meetings beneath the ancient willow by the riverbank, hidden from the prying eyes of the court.\n",
      "\n",
      "Unbeknownst to the queen, a jealous count had uncovered their rendezvous. Seeking favor and power, he whispered his discovery into the king's ear. Alaric, torn between his duty and love for Seraphina, hatched a plan to test her loyalty.\n",
      "\n",
      "In a grand ball, where the kingdom's most illustrious gathered, Alaric revealed a supposed plot against the throne, orchestrated by Thorne. As Seraphina watched her lover taken into custody, she made a bold move, standing before the king and confessing her love for Thorne. Touched by her honesty, Alaric, heartbroken but noble, granted the lovers exile, preserving their love and ensuring peace within the kingdom.\n",
      "---------- TextMessage (character_agent) ----------\n",
      "In the ancient kingdom of Elandor, King Alaric was revered for his wisdom and fairness, while Queen Seraphina was admired for her beauty and kind heart. Yet, concealed within the castle walls lay a secret that threatened to unravel the facade of harmony.\n",
      "\n",
      "Seraphina, bound in a marriage born of duty and not affection, found her heart captured by Thorne, a gallant knight known for his courage and integrity. Their love, sheltered by shadows, flourished beneath the ancient willow by the riverbank, far from the scrutinizing eyes of the court.\n",
      "\n",
      "However, their secret was not safe for long. A conniving courtier, driven by ambition, discovered their trysts and sought to use this information for personal gain. Whispering tales of betrayal to King Alaric, he sought to stir the king’s wrath and ascend the ranks of power.\n",
      "\n",
      "Alaric, devastated by the revelation, decided to confront the truth. During a grand feast, he put his queen's fidelity to the test. When guards seized Thorne on false charges, Seraphina's heart broke, and she boldly stood before her king, confessing her enduring love for the knight.\n",
      "\n",
      "Moved by her bravery and the purity of their love, Alaric, though pained, chose compassion over vengeance. He granted the lovers exile, permitting them a life together beyond the kingdom's borders. Thus, peace was restored, and Elandor remained untouched by the turmoil of shattered love.\n",
      "---------- TextMessage (ending_agent) ----------\n",
      "In the ancient kingdom of Elandor, King Alaric carried the weight of his people's trust, known far and wide for his wisdom. His queen, Seraphina, graced the realm with unparalleled beauty, yet her heart burned passionately for another—Thorne, a valiant knight of humble roots, whose courage won both battles and hearts.\n",
      "\n",
      "Their love was a carefully guarded secret, nurtured in moonlit embraces by the whispering river under the ancient willow. But secrets, no matter how cherished, have a way of unraveling. A shrewd courtier, coveting power, stumbled upon their secret and, seeing opportunity, whispered treachery into the king's ear.\n",
      "\n",
      "Alaric, though devastated, was a ruler first and a husband second. He devised a long game, leading Seraphina to believe he was entirely unaware even as he orchestrated events to test their fidelity. During a lavish banquet, under the guise of toasting unity, Alaric presented fabricated evidence of Thorne’s betrayal against the crown.\n",
      "\n",
      "Seraphina, cornered, confessed her love to the gathered nobles, expecting banishment or worse. Yet, as the room gasped, Alaric raised his hand for silence. His heartache veiled by a cryptic smile, he revealed an astonishing truth: Thorne was, in reality, his own estranged half-brother, hidden since birth due to a long-forgotten scandal. By marrying Seraphina, Thorne was unwittingly elevating his own bloodline.\n",
      "\n",
      "With this revelation, the lovers were offered amnesty, with Thorne recognizing his rightful place in the kingdom. Alaric's act of both cunning and magnanimity preserved the peace and drew Elandor into a new era of unity, with a twist that none had foreseen.\n"
     ]
    },
    {
     "data": {
      "text/plain": [
       "TaskResult(messages=[TextMessage(id='a2a4709c-30eb-433c-bfeb-27b6fb1cfe68', source='user', models_usage=None, metadata={}, created_at=datetime.datetime(2025, 9, 21, 4, 18, 25, 773688, tzinfo=datetime.timezone.utc), content='Write a story on a king , a queen and her lover in 200 words', type='TextMessage'), TextMessage(id='48134419-376d-46fb-971f-77be64211a35', source='plot_agent', models_usage=RequestUsage(prompt_tokens=38, completion_tokens=287), metadata={}, created_at=datetime.datetime(2025, 9, 21, 4, 18, 30, 841025, tzinfo=datetime.timezone.utc), content=\"In the ancient kingdom of Elandor, King Alaric was loved for his wisdom and fairness, while Queen Seraphina was admired for her beauty and gentle heart. Yet, behind the serene facade of the castle, a secret affair unraveled, threatening the sanctity of the crown.\\n\\nSeraphina, trapped in a loveless marriage, found solace in the arms of Thorne, a dashing knight of humble origins. They had grown up together in the lush meadows of her father's lands, their bond forged in innocence and true affection. As adults, their love blossomed in secret meetings beneath the ancient willow by the riverbank, hidden from the prying eyes of the court.\\n\\nUnbeknownst to the queen, a jealous count had uncovered their rendezvous. Seeking favor and power, he whispered his discovery into the king's ear. Alaric, torn between his duty and love for Seraphina, hatched a plan to test her loyalty.\\n\\nIn a grand ball, where the kingdom's most illustrious gathered, Alaric revealed a supposed plot against the throne, orchestrated by Thorne. As Seraphina watched her lover taken into custody, she made a bold move, standing before the king and confessing her love for Thorne. Touched by her honesty, Alaric, heartbroken but noble, granted the lovers exile, preserving their love and ensuring peace within the kingdom.\", type='TextMessage'), TextMessage(id='6262cb40-3d53-4a7c-8cfb-84771cd3a83c', source='character_agent', models_usage=RequestUsage(prompt_tokens=333, completion_tokens=299), metadata={}, created_at=datetime.datetime(2025, 9, 21, 4, 18, 37, 239089, tzinfo=datetime.timezone.utc), content=\"In the ancient kingdom of Elandor, King Alaric was revered for his wisdom and fairness, while Queen Seraphina was admired for her beauty and kind heart. Yet, concealed within the castle walls lay a secret that threatened to unravel the facade of harmony.\\n\\nSeraphina, bound in a marriage born of duty and not affection, found her heart captured by Thorne, a gallant knight known for his courage and integrity. Their love, sheltered by shadows, flourished beneath the ancient willow by the riverbank, far from the scrutinizing eyes of the court.\\n\\nHowever, their secret was not safe for long. A conniving courtier, driven by ambition, discovered their trysts and sought to use this information for personal gain. Whispering tales of betrayal to King Alaric, he sought to stir the king’s wrath and ascend the ranks of power.\\n\\nAlaric, devastated by the revelation, decided to confront the truth. During a grand feast, he put his queen's fidelity to the test. When guards seized Thorne on false charges, Seraphina's heart broke, and she boldly stood before her king, confessing her enduring love for the knight.\\n\\nMoved by her bravery and the purity of their love, Alaric, though pained, chose compassion over vengeance. He granted the lovers exile, permitting them a life together beyond the kingdom's borders. Thus, peace was restored, and Elandor remained untouched by the turmoil of shattered love.\", type='TextMessage'), TextMessage(id='1d46b276-1f63-4ff0-a8cf-ea9357be2768', source='ending_agent', models_usage=RequestUsage(prompt_tokens=640, completion_tokens=371), metadata={}, created_at=datetime.datetime(2025, 9, 21, 4, 18, 45, 581462, tzinfo=datetime.timezone.utc), content=\"In the ancient kingdom of Elandor, King Alaric carried the weight of his people's trust, known far and wide for his wisdom. His queen, Seraphina, graced the realm with unparalleled beauty, yet her heart burned passionately for another—Thorne, a valiant knight of humble roots, whose courage won both battles and hearts.\\n\\nTheir love was a carefully guarded secret, nurtured in moonlit embraces by the whispering river under the ancient willow. But secrets, no matter how cherished, have a way of unraveling. A shrewd courtier, coveting power, stumbled upon their secret and, seeing opportunity, whispered treachery into the king's ear.\\n\\nAlaric, though devastated, was a ruler first and a husband second. He devised a long game, leading Seraphina to believe he was entirely unaware even as he orchestrated events to test their fidelity. During a lavish banquet, under the guise of toasting unity, Alaric presented fabricated evidence of Thorne’s betrayal against the crown.\\n\\nSeraphina, cornered, confessed her love to the gathered nobles, expecting banishment or worse. Yet, as the room gasped, Alaric raised his hand for silence. His heartache veiled by a cryptic smile, he revealed an astonishing truth: Thorne was, in reality, his own estranged half-brother, hidden since birth due to a long-forgotten scandal. By marrying Seraphina, Thorne was unwittingly elevating his own bloodline.\\n\\nWith this revelation, the lovers were offered amnesty, with Thorne recognizing his rightful place in the kingdom. Alaric's act of both cunning and magnanimity preserved the peace and drew Elandor into a new era of unity, with a twist that none had foreseen.\", type='TextMessage')], stop_reason='Maximum number of turns 3 reached.')"
      ]
     },
     "execution_count": 3,
     "metadata": {},
     "output_type": "execute_result"
    }
   ],
   "source": [
    "from autogen_agentchat.ui import Console\n",
    "\n",
    "await Console(team.run_stream(task = 'Write a story on a king , a queen and her lover in 200 words'))"
   ]
  },
  {
   "cell_type": "markdown",
   "id": "abc8132c",
   "metadata": {},
   "source": [
    "# Team operations   \n",
    "- Resume"
   ]
  },
  {
   "cell_type": "code",
   "execution_count": 1,
   "id": "5669e7c5",
   "metadata": {},
   "outputs": [
    {
     "name": "stdout",
     "output_type": "stream",
     "text": [
      "---------- TextMessage (add_1_agent_first) ----------\n",
      "1\n",
      "---------- TextMessage (add_1_agent_second) ----------\n",
      "2\n",
      "---------- TextMessage (add_1_agent_third) ----------\n",
      "3\n",
      "---------- TextMessage (add_1_agent_first) ----------\n",
      "4\n",
      "---------- TextMessage (add_1_agent_second) ----------\n",
      "5\n"
     ]
    },
    {
     "data": {
      "text/plain": [
       "TaskResult(messages=[TextMessage(id='ae8288d2-6bb5-40e3-90ed-f30815dadf4d', source='add_1_agent_first', models_usage=RequestUsage(prompt_tokens=24, completion_tokens=1), metadata={}, created_at=datetime.datetime(2025, 8, 9, 4, 33, 30, 141772, tzinfo=datetime.timezone.utc), content='1', type='TextMessage'), TextMessage(id='4f193bea-ba77-4078-bd36-894d16ce61ef', source='add_1_agent_second', models_usage=RequestUsage(prompt_tokens=29, completion_tokens=1), metadata={}, created_at=datetime.datetime(2025, 8, 9, 4, 33, 30, 679969, tzinfo=datetime.timezone.utc), content='2', type='TextMessage'), TextMessage(id='a191ec29-ea09-4896-a9c1-40c763c85a2e', source='add_1_agent_third', models_usage=RequestUsage(prompt_tokens=39, completion_tokens=1), metadata={}, created_at=datetime.datetime(2025, 8, 9, 4, 33, 31, 316653, tzinfo=datetime.timezone.utc), content='3', type='TextMessage'), TextMessage(id='7def664d-0b02-4938-95ee-2b42e5ccde5d', source='add_1_agent_first', models_usage=RequestUsage(prompt_tokens=50, completion_tokens=1), metadata={}, created_at=datetime.datetime(2025, 8, 9, 4, 33, 31, 875555, tzinfo=datetime.timezone.utc), content='4', type='TextMessage'), TextMessage(id='9ea8bbe1-e15c-4c5d-b4c4-44fef840ab97', source='add_1_agent_second', models_usage=RequestUsage(prompt_tokens=55, completion_tokens=1), metadata={}, created_at=datetime.datetime(2025, 8, 9, 4, 33, 32, 469458, tzinfo=datetime.timezone.utc), content='5', type='TextMessage')], stop_reason='Maximum number of turns 5 reached.')"
      ]
     },
     "execution_count": 1,
     "metadata": {},
     "output_type": "execute_result"
    }
   ],
   "source": [
    "import asyncio\n",
    "from autogen_ext.models.openai import OpenAIChatCompletionClient\n",
    "from dotenv import load_dotenv\n",
    "import os\n",
    "\n",
    "load_dotenv()\n",
    "api_key = os.getenv('OPENAI_API_KEY')\n",
    "model_client = OpenAIChatCompletionClient(model='gpt-4o', api_key=api_key)\n",
    "\n",
    "from autogen_agentchat.agents import AssistantAgent\n",
    "add_1_agent_first = AssistantAgent(\n",
    "    name = 'add_1_agent_first',\n",
    "    model_client=model_client,\n",
    "    system_message=\"Add 1 to the number, first number is 0. Give result as output\"\n",
    ")\n",
    "\n",
    "add_1_agent_second = AssistantAgent(\n",
    "    name = 'add_1_agent_second',\n",
    "    model_client=model_client,\n",
    "    system_message=\"Add 1 to the number. Give result as output.\"\n",
    ")\n",
    " \n",
    "add_1_agent_third = AssistantAgent(\n",
    "    name = 'add_1_agent_third',\n",
    "    model_client=model_client,\n",
    "    system_message=\"Add 1 to the number. Give result as output.\"\n",
    ")\n",
    "\n",
    "from autogen_agentchat.teams import RoundRobinGroupChat\n",
    "\n",
    "team = RoundRobinGroupChat(\n",
    "    [add_1_agent_first, add_1_agent_second, add_1_agent_third],\n",
    "    max_turns=5\n",
    ")\n",
    "\n",
    "from autogen_agentchat.ui import Console\n",
    "\n",
    "await Console(team.run_stream())"
   ]
  },
  {
   "cell_type": "code",
   "execution_count": 2,
   "id": "412fa3fe",
   "metadata": {},
   "outputs": [
    {
     "name": "stdout",
     "output_type": "stream",
     "text": [
      "---------- TextMessage (add_1_agent_third) ----------\n",
      "6\n",
      "---------- TextMessage (add_1_agent_first) ----------\n",
      "7\n",
      "---------- TextMessage (add_1_agent_second) ----------\n",
      "8\n",
      "---------- TextMessage (add_1_agent_third) ----------\n",
      "9\n",
      "---------- TextMessage (add_1_agent_first) ----------\n",
      "10\n"
     ]
    },
    {
     "data": {
      "text/plain": [
       "TaskResult(messages=[TextMessage(id='ef85d820-591f-4d17-b86e-ffa8a08b45de', source='add_1_agent_third', models_usage=RequestUsage(prompt_tokens=64, completion_tokens=1), metadata={}, created_at=datetime.datetime(2025, 8, 9, 4, 33, 49, 25538, tzinfo=datetime.timezone.utc), content='6', type='TextMessage'), TextMessage(id='8b1d7501-1cd1-419b-821f-3d5e3f9d3f3b', source='add_1_agent_first', models_usage=RequestUsage(prompt_tokens=76, completion_tokens=1), metadata={}, created_at=datetime.datetime(2025, 8, 9, 4, 33, 49, 654287, tzinfo=datetime.timezone.utc), content='7', type='TextMessage'), TextMessage(id='7f10e4c4-984c-44c3-b3fa-ff05cc2a6e6a', source='add_1_agent_second', models_usage=RequestUsage(prompt_tokens=81, completion_tokens=1), metadata={}, created_at=datetime.datetime(2025, 8, 9, 4, 33, 50, 253617, tzinfo=datetime.timezone.utc), content='8', type='TextMessage'), TextMessage(id='43e39ca0-df21-4412-a9b1-13955dde640d', source='add_1_agent_third', models_usage=RequestUsage(prompt_tokens=89, completion_tokens=1), metadata={}, created_at=datetime.datetime(2025, 8, 9, 4, 33, 50, 830981, tzinfo=datetime.timezone.utc), content='9', type='TextMessage'), TextMessage(id='3669fbed-724d-4d19-b840-521a48abe393', source='add_1_agent_first', models_usage=RequestUsage(prompt_tokens=102, completion_tokens=1), metadata={}, created_at=datetime.datetime(2025, 8, 9, 4, 33, 51, 407629, tzinfo=datetime.timezone.utc), content='10', type='TextMessage')], stop_reason='Maximum number of turns 5 reached.')"
      ]
     },
     "execution_count": 2,
     "metadata": {},
     "output_type": "execute_result"
    }
   ],
   "source": [
    "await Console(team.run_stream())"
   ]
  },
  {
   "cell_type": "code",
   "execution_count": 3,
   "id": "54cc85f8",
   "metadata": {},
   "outputs": [
    {
     "name": "stdout",
     "output_type": "stream",
     "text": [
      "---------- TextMessage (add_1_agent_second) ----------\n",
      "11\n",
      "---------- TextMessage (add_1_agent_third) ----------\n",
      "12\n",
      "---------- TextMessage (add_1_agent_first) ----------\n",
      "13\n",
      "---------- TextMessage (add_1_agent_second) ----------\n",
      "14\n",
      "---------- TextMessage (add_1_agent_third) ----------\n",
      "15\n"
     ]
    },
    {
     "data": {
      "text/plain": [
       "TaskResult(messages=[TextMessage(id='a30ed479-79e9-498a-9a55-2db60407ccce', source='add_1_agent_second', models_usage=RequestUsage(prompt_tokens=107, completion_tokens=1), metadata={}, created_at=datetime.datetime(2025, 8, 9, 4, 33, 55, 936607, tzinfo=datetime.timezone.utc), content='11', type='TextMessage'), TextMessage(id='1c92527c-0255-4330-9a0e-62e573f1559d', source='add_1_agent_third', models_usage=RequestUsage(prompt_tokens=114, completion_tokens=1), metadata={}, created_at=datetime.datetime(2025, 8, 9, 4, 33, 56, 509788, tzinfo=datetime.timezone.utc), content='12', type='TextMessage'), TextMessage(id='cb393f88-4731-436e-8fd1-c6db25fa1dc7', source='add_1_agent_first', models_usage=RequestUsage(prompt_tokens=128, completion_tokens=1), metadata={}, created_at=datetime.datetime(2025, 8, 9, 4, 33, 57, 128844, tzinfo=datetime.timezone.utc), content='13', type='TextMessage'), TextMessage(id='70e57281-0994-41b9-bf93-7e1284419607', source='add_1_agent_second', models_usage=RequestUsage(prompt_tokens=133, completion_tokens=1), metadata={}, created_at=datetime.datetime(2025, 8, 9, 4, 33, 57, 797887, tzinfo=datetime.timezone.utc), content='14', type='TextMessage'), TextMessage(id='2eeaaccc-5387-4029-923f-5ac534814607', source='add_1_agent_third', models_usage=RequestUsage(prompt_tokens=139, completion_tokens=1), metadata={}, created_at=datetime.datetime(2025, 8, 9, 4, 33, 58, 439078, tzinfo=datetime.timezone.utc), content='15', type='TextMessage')], stop_reason='Maximum number of turns 5 reached.')"
      ]
     },
     "execution_count": 3,
     "metadata": {},
     "output_type": "execute_result"
    }
   ],
   "source": [
    "await Console(team.run_stream())"
   ]
  },
  {
   "cell_type": "markdown",
   "id": "d3b0e9dd",
   "metadata": {},
   "source": [
    "- Reset operation"
   ]
  },
  {
   "cell_type": "code",
   "execution_count": 4,
   "id": "dda89b49",
   "metadata": {},
   "outputs": [],
   "source": [
    "await team.reset() # on_reset() on all agents"
   ]
  },
  {
   "cell_type": "code",
   "execution_count": 5,
   "id": "3e550105",
   "metadata": {},
   "outputs": [
    {
     "name": "stdout",
     "output_type": "stream",
     "text": [
      "---------- TextMessage (add_1_agent_first) ----------\n",
      "1\n",
      "---------- TextMessage (add_1_agent_second) ----------\n",
      "2\n",
      "---------- TextMessage (add_1_agent_third) ----------\n",
      "3\n",
      "---------- TextMessage (add_1_agent_first) ----------\n",
      "4\n",
      "---------- TextMessage (add_1_agent_second) ----------\n",
      "5\n"
     ]
    },
    {
     "data": {
      "text/plain": [
       "TaskResult(messages=[TextMessage(id='5eb379f5-c555-4cab-9857-97d625fb36ac', source='add_1_agent_first', models_usage=RequestUsage(prompt_tokens=24, completion_tokens=1), metadata={}, created_at=datetime.datetime(2025, 8, 9, 4, 34, 27, 841270, tzinfo=datetime.timezone.utc), content='1', type='TextMessage'), TextMessage(id='1c3d3881-0eef-4417-928f-b1de514eced1', source='add_1_agent_second', models_usage=RequestUsage(prompt_tokens=29, completion_tokens=1), metadata={}, created_at=datetime.datetime(2025, 8, 9, 4, 34, 28, 613324, tzinfo=datetime.timezone.utc), content='2', type='TextMessage'), TextMessage(id='94f42489-f3f9-4cfb-b178-aa9e1c1829c9', source='add_1_agent_third', models_usage=RequestUsage(prompt_tokens=39, completion_tokens=1), metadata={}, created_at=datetime.datetime(2025, 8, 9, 4, 34, 29, 207656, tzinfo=datetime.timezone.utc), content='3', type='TextMessage'), TextMessage(id='b94568f3-2257-4a5a-ad28-e4097decc34b', source='add_1_agent_first', models_usage=RequestUsage(prompt_tokens=50, completion_tokens=1), metadata={}, created_at=datetime.datetime(2025, 8, 9, 4, 34, 29, 941516, tzinfo=datetime.timezone.utc), content='4', type='TextMessage'), TextMessage(id='088f7ce1-6363-4117-8ef4-8577d1fc48f9', source='add_1_agent_second', models_usage=RequestUsage(prompt_tokens=55, completion_tokens=1), metadata={}, created_at=datetime.datetime(2025, 8, 9, 4, 34, 30, 506294, tzinfo=datetime.timezone.utc), content='5', type='TextMessage')], stop_reason='Maximum number of turns 5 reached.')"
      ]
     },
     "execution_count": 5,
     "metadata": {},
     "output_type": "execute_result"
    }
   ],
   "source": [
    "await Console(team.run_stream())"
   ]
  },
  {
   "cell_type": "markdown",
   "id": "31dcb6b8",
   "metadata": {},
   "source": [
    "- Termination conditions"
   ]
  },
  {
   "cell_type": "code",
   "execution_count": null,
   "id": "feb27a0f",
   "metadata": {},
   "outputs": [],
   "source": [
    "from autogen_agentchat.agents import AssistantAgent\n",
    "add_1_agent_first = AssistantAgent(\n",
    "    name = 'add_1_agent_first',\n",
    "    model_client=model_client,\n",
    "    system_message=\"Add 1 to the number, first number is 0. Give result as output\"\n",
    ")\n",
    "\n",
    "add_1_agent_second = AssistantAgent(\n",
    "    name = 'add_1_agent_second',\n",
    "    model_client=model_client,\n",
    "    system_message=\"Add 1 to the number. Give result as output.\"\n",
    ")\n",
    " \n",
    "add_1_agent_third = AssistantAgent(\n",
    "    name = 'add_1_agent_third',\n",
    "    model_client=model_client,\n",
    "    system_message=\"Add 1 to the number. Give result as output.\"\n",
    ")\n",
    "\n",
    "from autogen_agentchat.teams import RoundRobinGroupChat\n",
    "\n",
    "team = RoundRobinGroupChat(\n",
    "    [add_1_agent_first, add_1_agent_second, add_1_agent_third]\n",
    ")\n",
    "from autogen_agentchat.ui import Console\n",
    "\n",
    "await Console(team.run_stream())"
   ]
  },
  {
   "cell_type": "code",
   "execution_count": null,
   "id": "08be32ed",
   "metadata": {},
   "outputs": [],
   "source": [
    "from autogen_agentchat.conditions import MaxMessageTermination\n",
    "\n",
    "max_termination = MaxMessageTermination(5)\n",
    "team = RoundRobinGroupChat(\n",
    "    [add_1_agent_first, add_1_agent_second, add_1_agent_third],\n",
    "    termination_condition =max_termination\n",
    ")"
   ]
  },
  {
   "cell_type": "code",
   "execution_count": 19,
   "id": "61c9c5da",
   "metadata": {},
   "outputs": [
    {
     "name": "stdout",
     "output_type": "stream",
     "text": [
      "---------- TextMessage (user) ----------\n",
      "Write a story about one girl and a panda in 50 words.\n",
      "---------- TextMessage (story_writer) ----------\n",
      "A brave knight ventured through a dark forest to save his kingdom's treasure. He battled fierce beasts and tricked cunning sorcerers. Heart pure and sword steady, he reached the hidden cave, rescuing the realm's stolen fortune. His courage became legend. The kingdom celebrated his heroics.\n",
      "---------- TextMessage (story_critic) ----------\n",
      "THE END\n"
     ]
    },
    {
     "data": {
      "text/plain": [
       "TaskResult(messages=[TextMessage(id='3ba7153b-e4a9-49dd-a00f-2cdbc77fe16c', source='user', models_usage=None, metadata={}, created_at=datetime.datetime(2025, 8, 9, 0, 14, 45, 694013, tzinfo=datetime.timezone.utc), content='Write a story about one girl and a panda in 50 words.', type='TextMessage'), TextMessage(id='5a783315-2400-43b6-b38c-76cd961cf39a', source='story_writer', models_usage=RequestUsage(prompt_tokens=59, completion_tokens=59), metadata={}, created_at=datetime.datetime(2025, 8, 9, 0, 14, 48, 158432, tzinfo=datetime.timezone.utc), content=\"A brave knight ventured through a dark forest to save his kingdom's treasure. He battled fierce beasts and tricked cunning sorcerers. Heart pure and sword steady, he reached the hidden cave, rescuing the realm's stolen fortune. His courage became legend. The kingdom celebrated his heroics.\", type='TextMessage'), TextMessage(id='df265111-14a4-496d-9d89-e175e6a3573c', source='story_critic', models_usage=RequestUsage(prompt_tokens=129, completion_tokens=2), metadata={}, created_at=datetime.datetime(2025, 8, 9, 0, 14, 49, 135307, tzinfo=datetime.timezone.utc), content='THE END', type='TextMessage')], stop_reason=\"Text 'THE END' mentioned\")"
      ]
     },
     "execution_count": 19,
     "metadata": {},
     "output_type": "execute_result"
    }
   ],
   "source": [
    "# Another option\n",
    "agent1 = AssistantAgent(\n",
    "    name = 'story_writer',\n",
    "    model_client=model_client,\n",
    "    system_message=\"Give the story about a brave knight, keep it short no more than 40 words. if critic say 'THE END' anywhere. Only output 'THE END'\"\n",
    ")\n",
    "\n",
    "agent2 = AssistantAgent(\n",
    "    name = 'story_critic',\n",
    "    model_client=model_client,\n",
    "    system_message=\"Continue the story and critic it with feedback. Keep it short and no more than 40 words. If it feels complete, just say 'THE END'. Only output 'THE END'\"\n",
    ")\n",
    "from autogen_agentchat.conditions import TextMentionTermination\n",
    "\n",
    "\n",
    "text_mention_termination = TextMentionTermination('THE END')\n",
    "teamWithTextTermination = RoundRobinGroupChat(\n",
    "    [agent1, agent2],\n",
    "    termination_condition=text_mention_termination\n",
    ")\n",
    "\n",
    "from autogen_agentchat.ui import Console\n",
    "\n",
    "await Console(teamWithTextTermination.run_stream(task = 'Write a story about one girl and a panda in 50 words.'))"
   ]
  },
  {
   "cell_type": "code",
   "execution_count": null,
   "id": "6aed5cb9",
   "metadata": {},
   "outputs": [],
   "source": []
  }
 ],
 "metadata": {
  "kernelspec": {
   "display_name": "Python 3",
   "language": "python",
   "name": "python3"
  },
  "language_info": {
   "codemirror_mode": {
    "name": "ipython",
    "version": 3
   },
   "file_extension": ".py",
   "mimetype": "text/x-python",
   "name": "python",
   "nbconvert_exporter": "python",
   "pygments_lexer": "ipython3",
   "version": "3.12.0"
  }
 },
 "nbformat": 4,
 "nbformat_minor": 5
}
